{
  "nbformat": 4,
  "nbformat_minor": 0,
  "metadata": {
    "colab": {
      "name": "Untitled2.ipynb",
      "private_outputs": true,
      "provenance": [],
      "mount_file_id": "1HenB7999mHbrGXSm2olYywC4e2ydTdJE",
      "authorship_tag": "ABX9TyNdmpfaraAryQ5+3J1ycy0d",
      "include_colab_link": true
    },
    "kernelspec": {
      "name": "python3",
      "display_name": "Python 3"
    },
    "language_info": {
      "name": "python"
    },
    "accelerator": "GPU"
  },
  "cells": [
    {
      "cell_type": "markdown",
      "metadata": {
        "id": "view-in-github",
        "colab_type": "text"
      },
      "source": [
        "<a href=\"https://colab.research.google.com/github/muhammad1on1/Kichkina_proyektlar/blob/main/Untitled2.ipynb\" target=\"_parent\"><img src=\"https://colab.research.google.com/assets/colab-badge.svg\" alt=\"Open In Colab\"/></a>"
      ]
    },
    {
      "cell_type": "code",
      "execution_count": null,
      "metadata": {
        "id": "kcLxnZikkQRf"
      },
      "outputs": [],
      "source": [
        "pip install face-recognition"
      ]
    },
    {
      "cell_type": "code",
      "source": [
        "import face_recognition"
      ],
      "metadata": {
        "id": "sZ2mKViSkxIj"
      },
      "execution_count": null,
      "outputs": []
    },
    {
      "cell_type": "code",
      "source": [
        "known_image = face_recognition.load_image_file(\"/content/drive/MyDrive/photo/Мухаммед_Юсуф.jpeg\")\n",
        "unknown_image = face_recognition.load_image_file(\"/content/drive/MyDrive/photo/Muhammad Sodiq Muhammad Yusuf.jpeg\")\n",
        "known_encoding = face_recognition.face_encodings(known_image)[0]\n",
        "unknown_encoding = face_recognition.face_encodings(unknown_image)[0]\n",
        "result = face_recognition. compare_faces([known_encoding],unknown_encoding)"
      ],
      "metadata": {
        "id": "_WFqzxpWkxOy"
      },
      "execution_count": null,
      "outputs": []
    },
    {
      "cell_type": "code",
      "source": [
        "result"
      ],
      "metadata": {
        "id": "6ABJXNXdkxXI"
      },
      "execution_count": null,
      "outputs": []
    }
  ]
}